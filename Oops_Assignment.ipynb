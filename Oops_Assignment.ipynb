{
  "nbformat": 4,
  "nbformat_minor": 0,
  "metadata": {
    "colab": {
      "provenance": []
    },
    "kernelspec": {
      "name": "python3",
      "display_name": "Python 3"
    },
    "language_info": {
      "name": "python"
    }
  },
  "cells": [
    {
      "cell_type": "markdown",
      "source": [
        " # 1 .What is object oriented programming?\n",
        " ->\n",
        "\n",
        "#Object-Oriented Programming (OOP)\n",
        "\n",
        "Object-Oriented Programming (OOP) is a programming paradigm that organizes software design around objects rather than functions and logic. An object is an instance of a class, which can contain both data (known as attributes or properties) and methods (functions associated with the object).\n",
        "\n",
        "* Key Concepts of OOP:\n",
        "\n",
        "\n",
        "#1.Class:\n",
        "\n",
        " A class is a blueprint or template for creating objects. It defines the structure and behavior that the created objects will have.\n",
        "\n",
        "#2.Object:\n",
        "\n",
        " An object is an instance of a class. It represents a specific entity that combines both data and methods.\n",
        "\n",
        "#3.Encapsulation:\n",
        "\n",
        " This principle refers to bundling the data and the methods that operate on that data within a single unit (i.e., the object), and restricting access to some of the object's components. This is usually done using access modifiers like private, public, and protected.\n",
        "\n",
        "#4.Abstraction:\n",
        "\n",
        "Abstraction means hiding the complex implementation details and showing only the necessary features of an object. It helps to reduce programming complexity and effort.\n",
        "\n",
        "#5.Inheritance:\n",
        "\n",
        "Inheritance allows a class to acquire the properties and methods of another class. This promotes code reusability. The existing class is called the parent or superclass, and the new class is the child or subclass.\n",
        "\n",
        "#6.Polymorphism:\n",
        "\n",
        " Polymorphism means \"many forms\". It allows one interface to be used for a general class of actions. The most common use is when a parent class reference is used to refer to a child class object."
      ],
      "metadata": {
        "id": "7nWNW__meN8V"
      }
    },
    {
      "cell_type": "markdown",
      "source": [
        "#2. what is class in oop\n",
        "->\n",
        "\n",
        "n Object-Oriented Programming (OOP), a class is a blueprint or template for creating objects. It defines the attributes (also known as fields or properties) and behaviors (known as methods) that the objects created from the class will have.\n",
        "\n",
        "Key Concepts:\n",
        "Class: Think of it as a design or template.\n",
        "\n",
        "Object: An actual instance created based on the class.\n",
        "\n",
        "Attributes: Variables that hold data specific to an object.\n",
        "\n",
        "Methods: Functions that define what an object can do.\n",
        "\n"
      ],
      "metadata": {
        "id": "eJrV83XnfWEA"
      }
    },
    {
      "cell_type": "code",
      "source": [
        "class Car:\n",
        "    # Constructor (called when an object is created)\n",
        "    def __init__(self, color, speed):\n",
        "        self.color = color  # Attribute\n",
        "        self.speed = speed  # Attribute\n",
        "\n",
        "    # Method\n",
        "    def drive(self):\n",
        "        print(f\"The {self.color} car\n"
      ],
      "metadata": {
        "id": "mY8sg1OYeNws",
        "colab": {
          "base_uri": "https://localhost:8080/",
          "height": 106
        },
        "outputId": "f2b996b6-2941-4322-ade3-42a688cea0ec"
      },
      "execution_count": 2,
      "outputs": [
        {
          "output_type": "error",
          "ename": "SyntaxError",
          "evalue": "unterminated string literal (detected at line 9) (<ipython-input-2-c5e21d836c34>, line 9)",
          "traceback": [
            "\u001b[0;36m  File \u001b[0;32m\"<ipython-input-2-c5e21d836c34>\"\u001b[0;36m, line \u001b[0;32m9\u001b[0m\n\u001b[0;31m    print(f\"The {self.color} car\u001b[0m\n\u001b[0m          ^\u001b[0m\n\u001b[0;31mSyntaxError\u001b[0m\u001b[0;31m:\u001b[0m unterminated string literal (detected at line 9)\n"
          ]
        }
      ]
    },
    {
      "cell_type": "code",
      "source": [],
      "metadata": {
        "id": "s9XjnFTCm2AL"
      },
      "execution_count": null,
      "outputs": []
    },
    {
      "cell_type": "markdown",
      "source": [
        "#3. what is an object in oop\n",
        "->\n",
        "\n",
        "What is an Object in Object-Oriented Programming (OOP)?\n",
        "\n",
        "In Object-Oriented Programming (OOP), an object is a basic unit of a program that represents a real-world entity. An object is an instance of a class, and it contains both data (known as attributes or fields) and behavior (known as methods or functions).\n",
        "\n",
        "Characteristics of an Object:\n",
        "State: The data or attributes stored in the object (e.g., name, age, color).\n",
        "\n",
        "Behavior: The functions or methods that define what the object can do (e.g., walk(), speak(), calculate()).\n",
        "\n",
        "Identity: Each object has a unique identity, even if its state is the same as another object.\n",
        "\n",
        "Example:\n",
        "If we have a class called Car, we can create multiple objects from this class like car1, car2, etc. Each object will have its own values for the attributes (like color, model, and speed) and can use the methods (like drive() or brake()) defined in the class."
      ],
      "metadata": {
        "id": "DQoYPDCmmx8R"
      }
    },
    {
      "cell_type": "code",
      "execution_count": 1,
      "metadata": {
        "id": "XIwOSROTeE2L",
        "colab": {
          "base_uri": "https://localhost:8080/"
        },
        "outputId": "c1b09a67-8004-4b1f-b5ae-7a545079a8a6"
      },
      "outputs": [
        {
          "output_type": "stream",
          "name": "stdout",
          "text": [
            "The Red car is driving at 100 km/h.\n"
          ]
        }
      ],
      "source": [
        "class Car:\n",
        "    # Constructor (called when an object is created)\n",
        "    def __init__(self, color, speed):\n",
        "        self.color = color  # Attribute\n",
        "        self.speed = speed  # Attribute\n",
        "\n",
        "    # Method\n",
        "    def drive(self):\n",
        "        print(f\"The {self.color} car is driving at {self.speed} km/h.\")\n",
        "\n",
        "# Creating an object of the class\n",
        "my_car = Car(\"Red\", 100)\n",
        "my_car.drive()\n"
      ]
    },
    {
      "cell_type": "markdown",
      "source": [
        "#4. what is the difference batween abstraction and encapsulation\n",
        "->\n",
        "\n",
        "Difference Between Abstraction and Encapsulation in OOP\n",
        "Abstraction and encapsulation are two fundamental concepts in Object-Oriented Programming (OOP), but they serve different purposes. Both help in designing efficient, secure, and maintainable code, but in different ways.\n",
        "\n",
        "#1. Abstraction\n",
        "Definition:\n",
        "\n",
        "\n",
        "Abstraction is the process of hiding the internal implementation details and showing only the essential features of an object.\n",
        "\n",
        "Purpose:\n",
        "To reduce complexity by focusing only on relevant information.\n",
        "\n",
        "How It Works:\n",
        "\n",
        "Implemented using abstract classes or interfaces.\n",
        "\n",
        "Users interact with the system without knowing the internal logic.\n",
        "\n",
        "Example:\n",
        "When you use a mobile phone, you just press a button to call someone. You don’t know the complex internal processes like signal processing.\n",
        "\n",
        "#2. Encapsulation\n",
        "Definition:\n",
        "\n",
        "\n",
        "Encapsulation is the process of wrapping data and code into a single unit (class) and restricting direct access to some of the object's components.\n",
        "\n",
        "Purpose:\n",
        "To protect data from unauthorized access and accidental modification.\n",
        "\n",
        "How It Works:\n",
        "\n",
        "Achieved using access modifiers like private, public, protected.\n",
        "\n",
        "Only the allowed methods can access or modify data.\n",
        "\n",
        "Example:\n",
        "A class has a private variable salary and a public method setSalary() to update it. This ensures salary can’t be changed directly from outside the class."
      ],
      "metadata": {
        "id": "zFYDszVQnH1Q"
      }
    },
    {
      "cell_type": "markdown",
      "source": [
        "#5. what are dunder method in python\n",
        "->\n",
        "\n",
        "Dunder methods, also known as magic methods or special methods, are predefined methods in Python that have double underscores at the beginning and end of their names (hence the term \"dunder\", short for \"double underscore\").\n",
        "\n",
        "These methods are automatically called by Python in certain situations to perform special operations such as object creation, string representation, arithmetic operations, and more.\n",
        "\n",
        "Examples of Common Dunder Methods:\n",
        "Dunder Method\tPurpose\tExample Use\n",
        "__init__\tConstructor; used to initialize an object\tCalled when an object is created\n",
        "__str__\tReturns a string representation of the object\tUsed with print()\n",
        "__repr__\tOfficial string representation for debugging\tCalled by repr()\n",
        "__add__\tDefines behavior for the + operator\tUsed for custom addition\n",
        "__len__\tReturns the length of an object\tCalled by len() function\n",
        "__eq__\tDefines behavior for equality == comparison\tUsed for comparing objects\n",
        "\n",
        "Example:"
      ],
      "metadata": {
        "id": "Nnad3HkmoDDF"
      }
    },
    {
      "cell_type": "code",
      "source": [
        "class Book:\n",
        "    def __init__(self, title):\n",
        "        self.title = title\n",
        "\n",
        "    def __str__(self):\n",
        "        return f\"Book: {self.title}\"\n",
        "\n",
        "    def __len__(self):\n",
        "        return len(self.title)\n",
        "\n",
        "b = Book(\"Python Programming\")\n",
        "print(str(b))         # Calls __str__: Output -> Book: Python Programming\n",
        "print(len(b))         # Calls __len__: Output -> 18\n"
      ],
      "metadata": {
        "colab": {
          "base_uri": "https://localhost:8080/"
        },
        "id": "tulkqguTnFn7",
        "outputId": "7721d906-068f-45e8-cc1d-5d38662e9794"
      },
      "execution_count": 3,
      "outputs": [
        {
          "output_type": "stream",
          "name": "stdout",
          "text": [
            "Book: Python Programming\n",
            "18\n"
          ]
        }
      ]
    },
    {
      "cell_type": "markdown",
      "source": [
        "#6. what are the concept of inheritance in oop\n",
        "->\n",
        "\n",
        "Inheritance is a fundamental concept in Object-Oriented Programming (OOP) that allows a class to inherit properties and behaviors (methods) from another class. It promotes code reusability, modularity, and hierarchical classification.\n",
        "\n",
        "Key Terms:\n",
        "\n",
        "\n",
        "Parent Class (Super Class/Base Class): The class whose properties and methods are inherited.\n",
        "\n",
        "Child Class (Sub Class/Derived Class): The class that inherits from the parent class.\n",
        "\n",
        "Why Use Inheritance?\n",
        "To avoid code duplication by reusing existing code.\n",
        "\n",
        "To create a hierarchical relationship between classes.\n",
        "\n",
        "To allow method overriding and enable polymorphism.\n",
        "\n",
        "Types of Inheritance:\n",
        "\n",
        "\n",
        "Single Inheritance: A child class inherits from one parent class.\n",
        "\n",
        "Multiple Inheritance (supported in Python): A child class inherits from more than one parent class.\n",
        "\n",
        "Multilevel Inheritance: A class inherits from a child class, which itself inherits from another class.\n",
        "\n",
        "Hierarchical Inheritance: Multiple child classes inherit from a single parent class.\n",
        "\n",
        "Hybrid Inheritance: A combination of two or more types of inheritance.\n",
        "\n",
        "Example in Python:\n"
      ],
      "metadata": {
        "id": "5r9XmsL8ocf9"
      }
    },
    {
      "cell_type": "code",
      "source": [
        "class Animal:  # Parent class\n",
        "    def speak(self):\n",
        "        print(\"Animal speaks\")\n",
        "\n",
        "class Dog(Animal):  # Child class\n",
        "    def bark(self):\n",
        "        print(\"Dog barks\")\n",
        "\n",
        "d = Dog()\n",
        "d.speak()  # Inherited method\n",
        "d.bark()   # Own method\n"
      ],
      "metadata": {
        "colab": {
          "base_uri": "https://localhost:8080/"
        },
        "id": "kV_KdBGGoO0_",
        "outputId": "68cb4cde-166f-4449-9abf-92650495c15e"
      },
      "execution_count": 4,
      "outputs": [
        {
          "output_type": "stream",
          "name": "stdout",
          "text": [
            "Animal speaks\n",
            "Dog barks\n"
          ]
        }
      ]
    },
    {
      "cell_type": "code",
      "source": [],
      "metadata": {
        "id": "pHYJYtdUor89"
      },
      "execution_count": null,
      "outputs": []
    },
    {
      "cell_type": "markdown",
      "source": [
        "# Practical Questions\n",
        "\n",
        "#1. Create a parent class Animal with a method speak() that prints a generic message. Create a child class Dog that overrides the speak() method to print \"Bark!\"."
      ],
      "metadata": {
        "id": "57_fW3T7pJhB"
      }
    },
    {
      "cell_type": "code",
      "source": [
        "# Parent class\n",
        "class Animal:\n",
        "    def speak(self):\n",
        "        print(\"The animal makes a sound\")\n",
        "\n",
        "# Child class\n",
        "class Dog(Animal):\n",
        "    def speak(self):\n",
        "        print(\"Bark!\")\n",
        "\n",
        "# Creating objects\n",
        "generic_animal = Animal()\n",
        "dog = Dog()\n",
        "\n",
        "# Calling the speak method\n",
        "generic_animal.speak()  # Output: The animal makes a sound\n",
        "dog.speak()             # Output: Bark!\n"
      ],
      "metadata": {
        "colab": {
          "base_uri": "https://localhost:8080/"
        },
        "id": "eHfpwD3rpTlV",
        "outputId": "1e4d6bee-682c-4e3d-ff51-bf7db3b75574"
      },
      "execution_count": 5,
      "outputs": [
        {
          "output_type": "stream",
          "name": "stdout",
          "text": [
            "The animal makes a sound\n",
            "Bark!\n"
          ]
        }
      ]
    },
    {
      "cell_type": "code",
      "source": [],
      "metadata": {
        "id": "z866tZ3OpW6s"
      },
      "execution_count": null,
      "outputs": []
    },
    {
      "cell_type": "markdown",
      "source": [
        "#2. Write a program to create an abstract class Shape with a method area(). Derive classes Circle and Rectangle from it and implement the area() method in both."
      ],
      "metadata": {
        "id": "IZijyhC9piyR"
      }
    },
    {
      "cell_type": "code",
      "source": [
        "from abc import ABC, abstractmethod\n",
        "import math\n",
        "\n",
        "# Abstract base class\n",
        "class Shape(ABC):\n",
        "    @abstractmethod\n",
        "    def area(self):\n",
        "        pass\n",
        "\n",
        "# Derived class: Circle\n",
        "class Circle(Shape):\n",
        "    def __init__(self, radius):\n",
        "        self.radius = radius\n",
        "\n",
        "    def area(self):\n",
        "        return math.pi * self.radius * self.radius\n",
        "\n",
        "# Derived class: Rectangle\n",
        "class Rectangle(Shape):\n",
        "    def __init__(self, length, width):\n",
        "        self.length = length\n",
        "        self.width = width\n",
        "\n",
        "    def area(self):\n",
        "        return self.length * self.width\n",
        "\n",
        "# Creating objects\n",
        "circle = Circle(5)\n",
        "rectangle = Rectangle(4, 6)\n",
        "\n",
        "# Displaying areas\n",
        "print(\"Area of Circle:\", circle.area())       # Output: Area of Circle: 78.5398...\n",
        "print(\"Area of Rectangle:\", rectangle.area()) # Output: Area of Rectangle: 24\n"
      ],
      "metadata": {
        "colab": {
          "base_uri": "https://localhost:8080/"
        },
        "id": "uv0yBtEupim-",
        "outputId": "8e58cab9-7b58-4521-d58f-ebff65a6bcc7"
      },
      "execution_count": 6,
      "outputs": [
        {
          "output_type": "stream",
          "name": "stdout",
          "text": [
            "Area of Circle: 78.53981633974483\n",
            "Area of Rectangle: 24\n"
          ]
        }
      ]
    },
    {
      "cell_type": "markdown",
      "source": [
        "#3. Implement a multi-level inheritance scenario where a class Vehicle has an attribute type. Derive a class Car and further derive a class ElectricCar that adds a battery attribute."
      ],
      "metadata": {
        "id": "-cpe4gaYpvD6"
      }
    },
    {
      "cell_type": "code",
      "source": [
        "# Base class: Vehicle\n",
        "class Vehicle:\n",
        "    def __init__(self, type):\n",
        "        self.type = type\n",
        "\n",
        "    def display_type(self):\n",
        "        print(\"Vehicle Type:\", self.type)\n",
        "\n",
        "# Derived class: Car\n",
        "class Car(Vehicle):\n",
        "    def __init__(self, type, brand):\n",
        "        # Initialize the Vehicle class\n",
        "        super().__init__(type)\n",
        "        self.brand = brand\n",
        "\n",
        "    def display_brand(self):\n",
        "        print(\"Car Brand:\", self.brand)\n",
        "\n",
        "# Derived class: ElectricCar (further derived from Car)\n",
        "class ElectricCar(Car):\n",
        "    def __init__(self, type, brand, battery):\n",
        "        # Initialize the Car class\n",
        "        super().__init__(type, brand)\n",
        "        self.battery = battery\n",
        "\n",
        "    def display_battery(self):\n",
        "        print(\"Battery Capacity:\", self.battery, \"kWh\")\n",
        "\n",
        "# Creating objects\n",
        "vehicle = Vehicle(\"Motorized\")\n",
        "car = Car(\"Car\", \"Toyota\")\n",
        "electric_car = ElectricCar(\"Electric Car\", \"Tesla\", 75)\n",
        "\n",
        "# Displaying information\n",
        "vehicle.display_type()                  # Output: Vehicle Type: Motorized\n",
        "car.display_type()                       # Output: Vehicle Type: Car\n",
        "car.display_brand()                      # Output: Car Brand: Toyota\n",
        "electric_car.display_type()              # Output: Vehicle Type: Electric Car\n",
        "electric_car.display_brand()             # Output: Car Brand: Tesla\n",
        "electric_car.display_battery()           # Output: Battery Capacity: 75 kWh\n"
      ],
      "metadata": {
        "colab": {
          "base_uri": "https://localhost:8080/"
        },
        "id": "CtmEdRD4pn44",
        "outputId": "8a6b23e0-1551-4c8c-d2f5-85c201c06f6f"
      },
      "execution_count": 7,
      "outputs": [
        {
          "output_type": "stream",
          "name": "stdout",
          "text": [
            "Vehicle Type: Motorized\n",
            "Vehicle Type: Car\n",
            "Car Brand: Toyota\n",
            "Vehicle Type: Electric Car\n",
            "Car Brand: Tesla\n",
            "Battery Capacity: 75 kWh\n"
          ]
        }
      ]
    },
    {
      "cell_type": "markdown",
      "source": [
        "#4. Demonstrate polymorphism by creating a base class Bird with a method fly(). Create two derived classes Sparrow and Penguin that override the fly() method."
      ],
      "metadata": {
        "id": "57ZM1iq9p_my"
      }
    },
    {
      "cell_type": "code",
      "source": [
        "class Bird:\n",
        "    def fly(self):\n",
        "        print(\"This bird can fly.\")\n",
        "\n",
        "class Sparrow(Bird):\n",
        "    def fly(self):\n",
        "        print(\"Sparrow flies high in the sky.\")\n",
        "\n",
        "class Penguin(Bird):\n",
        "    def fly(self):\n",
        "        print(\"Penguin cannot fly.\")\n",
        "\n",
        "bird = Bird()\n",
        "sparrow = Sparrow()\n",
        "penguin = Penguin()\n",
        "\n",
        "bird.fly()\n",
        "sparrow.fly()\n",
        "penguin.fly()\n"
      ],
      "metadata": {
        "colab": {
          "base_uri": "https://localhost:8080/"
        },
        "id": "KIFRsjVopzfV",
        "outputId": "79646274-9bf9-4dc4-a55e-8093f189705b"
      },
      "execution_count": 8,
      "outputs": [
        {
          "output_type": "stream",
          "name": "stdout",
          "text": [
            "This bird can fly.\n",
            "Sparrow flies high in the sky.\n",
            "Penguin cannot fly.\n"
          ]
        }
      ]
    },
    {
      "cell_type": "code",
      "source": [],
      "metadata": {
        "id": "g557cSlfqEG9"
      },
      "execution_count": null,
      "outputs": []
    },
    {
      "cell_type": "markdown",
      "source": [
        "#5. Write a program to demonstrate encapsulation by creating a class BankAccount with private attributes balance and methods to deposit, withdraw, and check balance."
      ],
      "metadata": {
        "id": "fwxDDlB0qK1x"
      }
    },
    {
      "cell_type": "code",
      "source": [
        "class BankAccount:\n",
        "    def __init__(self, initial_balance):\n",
        "        self.__balance = initial_balance  # Private attribute\n",
        "\n",
        "    def deposit(self, amount):\n",
        "        if amount > 0:\n",
        "            self.__balance += amount\n",
        "            print(f\"Deposited: {amount}\")\n",
        "        else:\n",
        "            print(\"Deposit amount must be positive.\")\n",
        "\n",
        "    def withdraw(self, amount):\n",
        "        if 0 < amount <= self.__balance:\n",
        "            self.__balance -= amount\n",
        "            print(f\"Withdrew: {amount}\")\n",
        "        else:\n",
        "            print(\"Insufficient balance or invalid amount.\")\n",
        "\n",
        "    def check_balance(self):\n",
        "        print(f\"Current Balance: {self.__balance}\")\n",
        "\n",
        "# Creating a BankAccount object\n",
        "account = BankAccount(1000)\n",
        "\n",
        "# Demonstrating functionality\n",
        "account.check_balance()\n",
        "account.deposit(500)\n",
        "account.withdraw(200)\n",
        "account.check_balance()\n",
        "account.withdraw(1500)  # Insufficient balance\n"
      ],
      "metadata": {
        "colab": {
          "base_uri": "https://localhost:8080/"
        },
        "id": "FTVZ_GBMqS_5",
        "outputId": "a8178718-857c-4695-a184-a3984e5ebb34"
      },
      "execution_count": 9,
      "outputs": [
        {
          "output_type": "stream",
          "name": "stdout",
          "text": [
            "Current Balance: 1000\n",
            "Deposited: 500\n",
            "Withdrew: 200\n",
            "Current Balance: 1300\n",
            "Insufficient balance or invalid amount.\n"
          ]
        }
      ]
    },
    {
      "cell_type": "markdown",
      "source": [
        "#6. Demonstrate runtime polymorphism using a method play() in a base class Instrument. Derive classes Guitar and Piano that implement their own version of play()."
      ],
      "metadata": {
        "id": "BXNdwPUzqaz6"
      }
    },
    {
      "cell_type": "code",
      "source": [
        "class Instrument:\n",
        "    def play(self):\n",
        "        print(\"Playing an instrument\")\n",
        "\n",
        "class Guitar(Instrument):\n",
        "    def play(self):\n",
        "        print(\"Playing the guitar\")\n",
        "\n",
        "class Piano(Instrument):\n",
        "    def play(self):\n",
        "        print(\"Playing the piano\")\n",
        "\n",
        "# Creating objects\n",
        "instrument = Instrument()\n",
        "guitar = Guitar()\n",
        "piano = Piano()\n",
        "\n",
        "# Demonstrating runtime polymorphism\n",
        "instrument.play()  # Output: Playing an instrument\n",
        "guitar.play()      # Output: Playing the guitar\n",
        "piano.play()       # Output: Playing the piano\n"
      ],
      "metadata": {
        "colab": {
          "base_uri": "https://localhost:8080/"
        },
        "id": "3rNaUVvNqUF9",
        "outputId": "82643b53-7b6d-4295-df1c-69c44d414c0f"
      },
      "execution_count": 10,
      "outputs": [
        {
          "output_type": "stream",
          "name": "stdout",
          "text": [
            "Playing an instrument\n",
            "Playing the guitar\n",
            "Playing the piano\n"
          ]
        }
      ]
    },
    {
      "cell_type": "markdown",
      "source": [
        "#7. Create a class MathOperations with a class method add_numbers() to add two numbers and a static method subtract_numbers() to subtract two numbers"
      ],
      "metadata": {
        "id": "B8v6Ad-aquOG"
      }
    },
    {
      "cell_type": "code",
      "source": [
        "class MathOperations:\n",
        "    @classmethod\n",
        "    def add_numbers(cls, a, b):\n",
        "        return a + b\n",
        "\n",
        "    @staticmethod\n",
        "    def subtract_numbers(a, b):\n",
        "        return a - b\n",
        "\n",
        "result_add = MathOperations.add_numbers(10, 5)\n",
        "result_subtract = MathOperations.subtract_numbers(10, 5)\n",
        "\n",
        "print(\"Addition Result:\", result_add)\n",
        "print(\"Subtraction Result:\", result_subtract)\n"
      ],
      "metadata": {
        "colab": {
          "base_uri": "https://localhost:8080/"
        },
        "id": "dC5U-YNFqeXz",
        "outputId": "ac14a836-95d8-486d-d80c-fa5b6afe65bf"
      },
      "execution_count": 11,
      "outputs": [
        {
          "output_type": "stream",
          "name": "stdout",
          "text": [
            "Addition Result: 15\n",
            "Subtraction Result: 5\n"
          ]
        }
      ]
    },
    {
      "cell_type": "markdown",
      "source": [
        "#8. Implement a class Person with a class method to count the total number of persons created"
      ],
      "metadata": {
        "id": "aZw804H_qz4J"
      }
    },
    {
      "cell_type": "code",
      "source": [
        "class Person:\n",
        "    total_persons = 0\n",
        "\n",
        "    def __init__(self, name):\n",
        "        self.name = name\n",
        "        Person.total_persons += 1\n",
        "\n",
        "    @classmethod\n",
        "    def count_persons(cls):\n",
        "        return cls.total_persons\n",
        "\n",
        "person1 = Person(\"Alice\")\n",
        "person2 = Person(\"Bob\")\n",
        "person3 = Person(\"Charlie\")\n",
        "\n",
        "print(\"Total number of persons created:\", Person.count_persons())\n"
      ],
      "metadata": {
        "colab": {
          "base_uri": "https://localhost:8080/"
        },
        "id": "cUJvXKXRqy8j",
        "outputId": "67946104-8fcc-4a2a-bfa5-165af6341e25"
      },
      "execution_count": 12,
      "outputs": [
        {
          "output_type": "stream",
          "name": "stdout",
          "text": [
            "Total number of persons created: 3\n"
          ]
        }
      ]
    },
    {
      "cell_type": "code",
      "source": [],
      "metadata": {
        "id": "xvRjHYx2q8YP"
      },
      "execution_count": null,
      "outputs": []
    },
    {
      "cell_type": "markdown",
      "source": [
        "#9. Write a class Fraction with attributes numerator and denominator. Override the str method to display the fraction as \"numerator/denominator\"."
      ],
      "metadata": {
        "id": "rCt6m4pYrDOQ"
      }
    },
    {
      "cell_type": "code",
      "source": [
        "class Fraction:\n",
        "    def __init__(self, numerator, denominator):\n",
        "        self.numerator = numerator\n",
        "        self.denominator = denominator\n",
        "\n",
        "    def __str__(self):\n",
        "        return f\"{self.numerator}/{self.denominator}\"\n",
        "\n",
        "f1 = Fraction(3, 4)\n",
        "f2 = Fraction(5, 8)\n",
        "\n",
        "print(f1)\n",
        "print(f2)\n"
      ],
      "metadata": {
        "colab": {
          "base_uri": "https://localhost:8080/"
        },
        "id": "LacWF26xrMEs",
        "outputId": "26072905-009c-4c38-c26e-e65e5ef53d4c"
      },
      "execution_count": 14,
      "outputs": [
        {
          "output_type": "stream",
          "name": "stdout",
          "text": [
            "3/4\n",
            "5/8\n"
          ]
        }
      ]
    },
    {
      "cell_type": "markdown",
      "source": [
        "#10. Demonstrate operator overloading by creating a class Vector and overriding the add method to add two vectors."
      ],
      "metadata": {
        "id": "PVWSYkyurP99"
      }
    },
    {
      "cell_type": "code",
      "source": [
        "class Vector:\n",
        "    def __init__(self, x, y):\n",
        "        self.x = x\n",
        "        self.y = y\n",
        "\n",
        "    def __add__(self, other):\n",
        "        return Vector(self.x + other.x, self.y + other.y)\n",
        "\n",
        "    def __str__(self):\n",
        "        return f\"({self.x}, {self.y})\"\n",
        "\n",
        "v1 = Vector(2, 3)\n",
        "v2 = Vector(4, 5)\n",
        "v3 = v1 + v2\n",
        "\n",
        "print(v3)\n"
      ],
      "metadata": {
        "colab": {
          "base_uri": "https://localhost:8080/"
        },
        "id": "w3GfksrXrMpJ",
        "outputId": "c9e387d7-78fa-43ba-f0ac-f6c8519cc0c1"
      },
      "execution_count": 15,
      "outputs": [
        {
          "output_type": "stream",
          "name": "stdout",
          "text": [
            "(6, 8)\n"
          ]
        }
      ]
    },
    {
      "cell_type": "markdown",
      "source": [
        "#11. Create a class Person with attributes name and age. Add a method greet() that prints \"Hello, my name is {name} and I am {age} years old"
      ],
      "metadata": {
        "id": "t8Wbbg5SrgYp"
      }
    },
    {
      "cell_type": "code",
      "source": [
        "class Person:\n",
        "    def __init__(self, name, age):\n",
        "        self.name = name\n",
        "        self.age = age\n",
        "\n",
        "    def greet(self):\n",
        "        print(f\"Hello, my name is {self.name} and I am {self.age} years old\")\n",
        "\n",
        "p1 = Person(\"Alice\", 30)\n",
        "p2 = Person(\"Bob\", 25)\n",
        "\n",
        "p1.greet()\n",
        "p2.greet()\n"
      ],
      "metadata": {
        "colab": {
          "base_uri": "https://localhost:8080/"
        },
        "id": "i-d6EqfmraLI",
        "outputId": "2b1aad1f-27be-4e43-9026-2f92a105bb37"
      },
      "execution_count": 16,
      "outputs": [
        {
          "output_type": "stream",
          "name": "stdout",
          "text": [
            "Hello, my name is Alice and I am 30 years old\n",
            "Hello, my name is Bob and I am 25 years old\n"
          ]
        }
      ]
    },
    {
      "cell_type": "markdown",
      "source": [
        "#12. Implement a class Student with attributes name and grades. Create a method average_grade() to compute the average of the grades."
      ],
      "metadata": {
        "id": "i3VNytFyrn8I"
      }
    },
    {
      "cell_type": "code",
      "source": [
        "class Student:\n",
        "    def __init__(self, name, grades):\n",
        "        self.name = name\n",
        "        self.grades = grades\n",
        "\n",
        "    def average_grade(self):\n",
        "        return sum(self.grades) / len(self.grades)\n",
        "\n",
        "s1 = Student(\"Alice\", [85, 90, 78])\n",
        "s2 = Student(\"Bob\", [72, 88, 95])\n",
        "\n",
        "print(f\"{s1.name}'s average grade: {s1.average_grade()}\")\n",
        "print(f\"{s2.name}'s average grade: {s2.average_grade()}\")\n"
      ],
      "metadata": {
        "colab": {
          "base_uri": "https://localhost:8080/"
        },
        "id": "VX9FIfZ2rm-O",
        "outputId": "c8b3e95d-800d-4a9d-ef3b-36b491573dbd"
      },
      "execution_count": 17,
      "outputs": [
        {
          "output_type": "stream",
          "name": "stdout",
          "text": [
            "Alice's average grade: 84.33333333333333\n",
            "Bob's average grade: 85.0\n"
          ]
        }
      ]
    },
    {
      "cell_type": "markdown",
      "source": [
        "#13. Create a class Rectangle with methods set_dimensions() to set the dimensions and area() to calculate the area"
      ],
      "metadata": {
        "id": "MH4jb88Lr0RT"
      }
    },
    {
      "cell_type": "code",
      "source": [
        "class Rectangle:\n",
        "    def set_dimensions(self, length, width):\n",
        "        self.length = length\n",
        "        self.width = width\n",
        "\n",
        "    def area(self):\n",
        "        return self.length * self.width\n",
        "\n",
        "r1 = Rectangle()\n",
        "r1.set_dimensions(10, 5)\n",
        "print(\"Area of Rectangle:\", r1.area())\n"
      ],
      "metadata": {
        "colab": {
          "base_uri": "https://localhost:8080/"
        },
        "id": "I29ID322rx2W",
        "outputId": "bb14f39e-32e8-4087-aefc-fb450e635d4c"
      },
      "execution_count": 19,
      "outputs": [
        {
          "output_type": "stream",
          "name": "stdout",
          "text": [
            "Area of Rectangle: 50\n"
          ]
        }
      ]
    },
    {
      "cell_type": "markdown",
      "source": [
        "#14. Create a class Employee with a method calculate_salary() that computes the salary based on hours worked and hourly rate. Create a derived class Manager that adds a bonus to the salary"
      ],
      "metadata": {
        "id": "SZ_HpkI5r_zh"
      }
    },
    {
      "cell_type": "code",
      "source": [
        "class Employee:\n",
        "    def __init__(self, hours_worked, hourly_rate):\n",
        "        self.hours_worked = hours_worked\n",
        "        self.hourly_rate = hourly_rate\n",
        "\n",
        "    def calculate_salary(self):\n",
        "        return self.hours_worked * self.hourly_rate\n",
        "\n",
        "class Manager(Employee):\n",
        "    def __init__(self, hours_worked, hourly_rate, bonus):\n",
        "        super().__init__(hours_worked, hourly_rate)\n",
        "        self.bonus = bonus\n",
        "\n",
        "    def calculate_salary(self):\n",
        "        return super().calculate_salary() + self.bonus\n",
        "\n",
        "e1 = Employee(40, 20)\n",
        "m1 = Manager(40, 30, 200)\n",
        "\n",
        "print(\"Employee Salary:\", e1.calculate_salary())\n",
        "print(\"Manager Salary:\", m1.calculate_salary())\n"
      ],
      "metadata": {
        "colab": {
          "base_uri": "https://localhost:8080/"
        },
        "id": "huwyQLYhr8JN",
        "outputId": "db76f47c-8e6f-4819-ad55-c89f0a9aeb76"
      },
      "execution_count": 20,
      "outputs": [
        {
          "output_type": "stream",
          "name": "stdout",
          "text": [
            "Employee Salary: 800\n",
            "Manager Salary: 1400\n"
          ]
        }
      ]
    },
    {
      "cell_type": "markdown",
      "source": [
        "#15. Create a class Product with attributes name, price, and quantity. Implement a method total_price() that calculates the total price of the product."
      ],
      "metadata": {
        "id": "_lZP7Px4sMjF"
      }
    },
    {
      "cell_type": "code",
      "source": [
        "class Product:\n",
        "    def __init__(self, name, price, quantity):\n",
        "        self.name = name\n",
        "        self.price = price\n",
        "        self.quantity = quantity\n",
        "\n",
        "    def total_price(self):\n",
        "        return self.price * self.quantity\n",
        "\n",
        "p1 = Product(\"Laptop\", 75000, 2)\n",
        "p2 = Product(\"Mouse\", 500, 5)\n",
        "\n",
        "print(\"Total price of\", p1.name, \":\", p1.total_price())\n",
        "print(\"Total price of\", p2.name, \":\", p2.total_price())\n",
        "\n"
      ],
      "metadata": {
        "colab": {
          "base_uri": "https://localhost:8080/"
        },
        "id": "BCqcQPxKsLhv",
        "outputId": "b2a4425f-e8c0-46b9-c095-3ca5fbd216ef"
      },
      "execution_count": 21,
      "outputs": [
        {
          "output_type": "stream",
          "name": "stdout",
          "text": [
            "Total price of Laptop : 150000\n",
            "Total price of Mouse : 2500\n"
          ]
        }
      ]
    },
    {
      "cell_type": "markdown",
      "source": [
        "#16. Create a class Animal with an abstract method sound(). Create two derived classes Cow and Sheep that implement the sound() method."
      ],
      "metadata": {
        "id": "z-HFbCpwsYgh"
      }
    },
    {
      "cell_type": "code",
      "source": [
        "from abc import ABC, abstractmethod\n",
        "\n",
        "class Animal(ABC):\n",
        "    @abstractmethod\n",
        "    def sound(self):\n",
        "        pass\n",
        "\n",
        "class Cow(Animal):\n",
        "    def sound(self):\n",
        "        print(\"Moo\")\n",
        "\n",
        "class Sheep(Animal):\n",
        "    def sound(self):\n",
        "        print(\"Baa\")\n",
        "\n",
        "cow = Cow()\n",
        "sheep = Sheep()\n",
        "\n",
        "cow.sound()\n",
        "sheep.sound()\n",
        "\n"
      ],
      "metadata": {
        "colab": {
          "base_uri": "https://localhost:8080/"
        },
        "id": "wCYxiwynsV50",
        "outputId": "c6f9ca72-4c2a-4e34-ebe4-a84a6bb8576e"
      },
      "execution_count": 22,
      "outputs": [
        {
          "output_type": "stream",
          "name": "stdout",
          "text": [
            "Moo\n",
            "Baa\n"
          ]
        }
      ]
    },
    {
      "cell_type": "code",
      "source": [],
      "metadata": {
        "id": "ARROy2MEsgh6"
      },
      "execution_count": null,
      "outputs": []
    },
    {
      "cell_type": "markdown",
      "source": [
        "#17. Create a class Book with attributes title, author, and year_published. Add a method get_book_info() that returns a formatted string with the book's details."
      ],
      "metadata": {
        "id": "byjbeFVJslE_"
      }
    },
    {
      "cell_type": "code",
      "source": [
        "class Book:\n",
        "    def __init__(self, title, author, year_published):\n",
        "        self.title = title\n",
        "        self.author = author\n",
        "        self.year_published = year_published\n",
        "\n",
        "    def get_book_info(self):\n",
        "        return f\"'{self.title}' by {self.author}, published in {self.year_published}\"\n",
        "\n",
        "b1 = Book(\"To Kill a Mockingbird\", \"Harper Lee\", 1960)\n",
        "b2 = Book(\"1984\", \"George Orwell\", 1949)\n",
        "\n",
        "print(b1.get_book_info())\n",
        "print(b2.get_book_info())\n"
      ],
      "metadata": {
        "colab": {
          "base_uri": "https://localhost:8080/"
        },
        "id": "NuQnk0D6snJ5",
        "outputId": "892545ae-44d7-4c12-9d9a-e07e71419ff2"
      },
      "execution_count": 23,
      "outputs": [
        {
          "output_type": "stream",
          "name": "stdout",
          "text": [
            "'To Kill a Mockingbird' by Harper Lee, published in 1960\n",
            "'1984' by George Orwell, published in 1949\n"
          ]
        }
      ]
    },
    {
      "cell_type": "markdown",
      "source": [
        "#18. Create a class House with attributes address and price. Create a derived class Mansion that adds an attribute number_of_rooms."
      ],
      "metadata": {
        "id": "UZmjtt5UstZE"
      }
    },
    {
      "cell_type": "code",
      "source": [
        "class House:\n",
        "    def __init__(self, address, price):\n",
        "        self.address = address\n",
        "        self.price = price\n",
        "\n",
        "class Mansion(House):\n",
        "    def __init__(self, address, price, number_of_rooms):\n",
        "        super().__init__(address, price)\n",
        "        self.number_of_rooms = number_of_rooms\n",
        "\n",
        "house = House(\"123 Main St\", 500000)\n",
        "mansion = Mansion(\"456 Grand Ave\", 2000000, 10)\n",
        "\n",
        "print(\"House Address:\", house.address)\n",
        "print(\"House Price:\", house.price)\n",
        "\n",
        "print(\"Mansion Address:\", mansion.address)\n",
        "print(\"Mansion Price:\", mansion.price)\n",
        "print(\"Number of Rooms:\", mansion.number_of_rooms)\n"
      ],
      "metadata": {
        "colab": {
          "base_uri": "https://localhost:8080/"
        },
        "id": "Udk70rHQsows",
        "outputId": "5e731a55-2d2b-4a4e-c4ce-79c7ac990e5e"
      },
      "execution_count": 24,
      "outputs": [
        {
          "output_type": "stream",
          "name": "stdout",
          "text": [
            "House Address: 123 Main St\n",
            "House Price: 500000\n",
            "Mansion Address: 456 Grand Ave\n",
            "Mansion Price: 2000000\n",
            "Number of Rooms: 10\n"
          ]
        }
      ]
    },
    {
      "cell_type": "code",
      "source": [],
      "metadata": {
        "id": "Hel7XpENsw8b"
      },
      "execution_count": null,
      "outputs": []
    }
  ]
}